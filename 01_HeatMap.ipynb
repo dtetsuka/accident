{
 "cells": [
  {
   "cell_type": "code",
   "execution_count": null,
   "metadata": {},
   "outputs": [],
   "source": [
    "import pandas as pd"
   ]
  },
  {
   "cell_type": "code",
   "execution_count": null,
   "metadata": {},
   "outputs": [],
   "source": [
    "honhyo2023_path = \"../data/2023/honhyo_2023.csv\"\n",
    "honhyo2023 = pd.read_csv(honhyo2023_path, encoding='cp932') \n",
    "honhyo2023.head()"
   ]
  },
  {
   "cell_type": "code",
   "execution_count": null,
   "metadata": {},
   "outputs": [],
   "source": [
    "def degminsec2deg(degminsec):\n",
    "    tmp_deg = int(degminsec / 10000000)\n",
    "    tmp_min = int((degminsec % 10000000) / 100000)\n",
    "    tmp_sec = degminsec % 100000 / 1000\n",
    "\n",
    "    deg = tmp_deg + tmp_min / 60 + tmp_sec / 3600\n",
    "    return deg"
   ]
  },
  {
   "cell_type": "code",
   "execution_count": null,
   "metadata": {},
   "outputs": [],
   "source": [
    "honhyo2023[\"lat\"] = honhyo2023[\"地点　緯度（北緯）\"].apply(degminsec2deg)\n",
    "honhyo2023[\"lon\"] = honhyo2023[\"地点　経度（東経）\"].apply(degminsec2deg)\n",
    "\n",
    "honhyo2023.drop(\"地点　緯度（北緯）\", axis=1)\n",
    "honhyo2023.drop(\"地点　経度（東経）\", axis=1)\n",
    "\n",
    "honhyo2023.head()"
   ]
  },
  {
   "cell_type": "code",
   "execution_count": null,
   "metadata": {},
   "outputs": [],
   "source": [
    "honhyo2023.rename(columns={\n",
    "    '発生日時　　年': 'Year',\n",
    "    '発生日時　　月': 'Month',\n",
    "    '発生日時　　日': 'Day',\n",
    "    '発生日時　　時': 'Hour',\n",
    "    '発生日時　　分': 'Minute'\n",
    "}, inplace=True)\n",
    "honhyo2023['datetime'] = pd.to_datetime(honhyo2023[['Year', 'Month', 'Day', 'Hour', 'Minute']])"
   ]
  },
  {
   "cell_type": "code",
   "execution_count": null,
   "metadata": {},
   "outputs": [],
   "source": [
    "import folium\n",
    "from folium.plugins import HeatMap"
   ]
  },
  {
   "cell_type": "code",
   "execution_count": null,
   "metadata": {},
   "outputs": [],
   "source": [
    "honhyo2023_all_latlon = honhyo2023.loc[:,[\"lat\", \"lon\"]]"
   ]
  },
  {
   "cell_type": "code",
   "execution_count": null,
   "metadata": {},
   "outputs": [],
   "source": [
    "map = folium.Map(location=[35.658034, 139.701636], zoom_start=9, tiles='cartodbdark_matter')\n",
    "HeatMap(honhyo2023_all_latlon, radius=7, blur=5).add_to(map)\n",
    "map"
   ]
  },
  {
   "cell_type": "code",
   "execution_count": null,
   "metadata": {},
   "outputs": [],
   "source": [
    "honhyo2023_jan = honhyo2023.query(\"datetime.dt.year == 2023 and datetime.dt.month == 1\")\n",
    "honhyo2023_jan = honhyo2023_jan.loc[:,[\"lat\", \"lon\"]]"
   ]
  },
  {
   "cell_type": "code",
   "execution_count": null,
   "metadata": {},
   "outputs": [],
   "source": [
    "map = folium.Map(location=[35.658034, 139.701636], zoom_start=9, tiles='cartodbdark_matter')\n",
    "HeatMap(honhyo2023_jan, radius=7, blur=5).add_to(map)\n",
    "map"
   ]
  },
  {
   "cell_type": "code",
   "execution_count": null,
   "metadata": {},
   "outputs": [],
   "source": [
    "honhyo2023_18_20 = honhyo2023.query(\"datetime.dt.hour >= 18 and datetime.dt.hour < 20\")\n",
    "honhyo2023_18_20 = honhyo2023_18_20.loc[:,[\"lat\", \"lon\"]]"
   ]
  },
  {
   "cell_type": "code",
   "execution_count": null,
   "metadata": {},
   "outputs": [],
   "source": [
    "map = folium.Map(location=[35, 139], zoom_start=9, tiles='cartodbdark_matter')\n",
    "HeatMap(honhyo2023_18_20, radius=7, blur=5).add_to(map)\n",
    "map"
   ]
  }
 ],
 "metadata": {
  "kernelspec": {
   "display_name": "venv",
   "language": "python",
   "name": "python3"
  },
  "language_info": {
   "codemirror_mode": {
    "name": "ipython",
    "version": 3
   },
   "file_extension": ".py",
   "mimetype": "text/x-python",
   "name": "python",
   "nbconvert_exporter": "python",
   "pygments_lexer": "ipython3",
   "version": "3.12.4"
  }
 },
 "nbformat": 4,
 "nbformat_minor": 2
}
